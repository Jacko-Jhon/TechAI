{
  "nbformat": 4,
  "nbformat_minor": 0,
  "metadata": {
    "colab": {
      "provenance": [],
      "include_colab_link": true
    },
    "kernelspec": {
      "name": "python3",
      "display_name": "Python 3"
    },
    "language_info": {
      "name": "python"
    }
  },
  "cells": [
    {
      "cell_type": "markdown",
      "metadata": {
        "id": "view-in-github",
        "colab_type": "text"
      },
      "source": [
        "<a href=\"https://colab.research.google.com/github/Crossme0809/frenzyTechAI/blob/main/embedding/Generate_Examples_for_Embedding_Training.ipynb\" target=\"_parent\"><img src=\"https://colab.research.google.com/assets/colab-badge.svg\" alt=\"Open In Colab\"/></a>"
      ]
    },
    {
      "cell_type": "code",
      "execution_count": null,
      "metadata": {
        "id": "zxNSe5AdIu6X"
      },
      "outputs": [],
      "source": [
        "!pip install langchain\n",
        "!pip install openai"
      ]
    },
    {
      "cell_type": "code",
      "source": [
        "import openai\n",
        "from langchain.prompts.chat import (\n",
        "    ChatPromptTemplate,\n",
        "    HumanMessagePromptTemplate,\n",
        "    SystemMessagePromptTemplate,\n",
        ")\n",
        "from langchain.schema import HumanMessage, SystemMessage\n",
        "from langchain.chat_models import ChatOpenAI"
      ],
      "metadata": {
        "id": "RvznLBHvMkpG"
      },
      "execution_count": null,
      "outputs": []
    },
    {
      "cell_type": "code",
      "source": [
        "# 使用GPT-4生成高级任务列表\n",
        "# 别忘了输入你的API key\n",
        "\n",
        "llm = ChatOpenAI(api_key=\"ENTER YOUR KEY HERE\",\n",
        "                 model_name=\"gpt-4\")\n",
        "messages = [\n",
        "    HumanMessage(\n",
        "        content=\n",
        "\"\"\"\n",
        "头脑风暴10个潜在有用的文本检索任务。\n",
        "这里有几个例子供您参考：\n",
        "- 提供科学声明作为查询，检索有助于验证或反驳声明的文档。\n",
        "- 搜索有关儿童营养的FAQ式查询的文档。\n",
        "请遵守以下准则：\n",
        "- 指定查询是什么，以及所需的文档是什么。\n",
        "- 每个检索任务应该涵盖广泛的查询，并且不应该过于具体。\n",
        "您的输出应该始终是仅包含10个元素的python字符串列表，每个元素在一句话中对应一个不同的检索任务。不要解释自己或输出其他任何内容。要有创意！\n",
        "\"\"\"\n",
        "    )\n",
        "]\n",
        "result = llm(messages)\n",
        "tasks = eval(result.content)\n",
        "tasks"
      ],
      "metadata": {
        "id": "cqRqNFilMu5b"
      },
      "execution_count": null,
      "outputs": []
    },
    {
      "cell_type": "code",
      "source": [
        "# 生成一个JSON格式的示例任务\n",
        "\n",
        "# 您可以根据您的要求（提示长度、提示样式、输出文档长度、语言等）更改此模板\n",
        "template = (\n",
        "    \"\"\"\n",
        "您已被分配了一个检索任务：{task}\n",
        "您的任务是以JSON格式为此任务编写一个文本检索示例。JSON对象必须包含以下键：\n",
        "-\"user_query\"：一个字符串，由检索任务指定的随机用户搜索查询。\n",
        "-\"positive_document\"：一个字符串，用于用户查询的相关文档。\n",
        "-\"hard_negative_document\"：一个字符串，一个只与查询相关的硬否定文档。\n",
        "请遵守以下准则：\n",
        "-“user_query”应该是10-20个单词，清晰，主题多样。\n",
        "-所有文件的长度应至少为150字。\n",
        "-查询和文件都应该是英文的。\n",
        "你的输出必须始终是JSON对象，不要解释自己或输出其他任何东西。要有创意！\n",
        "    \"\"\"\n",
        ")\n",
        "\n",
        "prompt = ChatPromptTemplate.from_messages([\n",
        "    (HumanMessagePromptTemplate.from_template(template))\n",
        "])\n",
        "\n",
        "# 您可以将这部分放入循环中以创建更多示例\n",
        "result = llm(prompt.format_prompt(task=tasks[0]).to_messages())\n",
        "result.content\n"
      ],
      "metadata": {
        "id": "3se3r85qXGV3"
      },
      "execution_count": null,
      "outputs": []
    }
  ]
}